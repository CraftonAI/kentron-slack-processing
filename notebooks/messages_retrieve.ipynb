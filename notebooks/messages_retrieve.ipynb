{
 "cells": [
  {
   "cell_type": "code",
   "execution_count": null,
   "metadata": {},
   "outputs": [],
   "source": [
    "import os\n",
    "import pandas as pd\n",
    "\n",
    "def merge_csv_files(username1, username2):\n",
    "    # Search for the folder that holds the conversations of the users\n",
    "    folder_path = None\n",
    "    for root, dirs, files in os.walk('../csv2/dms.csv'):\n",
    "        if username1 + '_' + username2 in files:\n",
    "            folder_path = root\n",
    "            break\n",
    "\n",
    "    if folder_path is None:\n",
    "        print(\"Folder not found\")\n",
    "        return\n",
    "\n",
    "    # Merge all the CSV files in the folder\n",
    "    merged_data = pd.DataFrame()\n",
    "    for file in os.listdir(folder_path):\n",
    "        if file.endswith('.csv'):\n",
    "            file_path = os.path.join(folder_path, file)\n",
    "            df = pd.read_csv(file_path)\n",
    "            merged_data = pd.concat([merged_data, df])\n",
    "\n",
    "    # Save the merged data to a new CSV file\n",
    "    merged_data.to_csv('merged_conversations.csv', index=False)\n",
    "    print(\"CSV files merged successfully!\")\n",
    "\n",
    "# Usage example\n",
    "merge_csv_files('user1', 'user2')\n"
   ]
  }
 ],
 "metadata": {
  "language_info": {
   "name": "python"
  }
 },
 "nbformat": 4,
 "nbformat_minor": 2
}
