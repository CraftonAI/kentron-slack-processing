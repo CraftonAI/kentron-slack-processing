{
 "cells": [
  {
   "cell_type": "code",
   "execution_count": 2,
   "metadata": {},
   "outputs": [
    {
     "name": "stdout",
     "output_type": "stream",
     "text": [
      "CSV files merged successfully!\n"
     ]
    }
   ],
   "source": [
    "import os\n",
    "import pandas as pd\n",
    "\n",
    "def merge_csv_files():\n",
    "    # Take user input for usernames\n",
    "    username1 = input(\"Enter username 1: \")\n",
    "    username2 = input(\"Enter username 2: \")\n",
    "\n",
    "    # Read the dms_output.csv file\n",
    "    dms_data = pd.read_csv('../processed_data/dms_output.csv')\n",
    "\n",
    "    # Filter the data based on the usernames\n",
    "    filtered_data = dms_data[(dms_data['member_1'] == username1) & (dms_data['member_2'] == username2)]\n",
    "\n",
    "    if filtered_data.empty:\n",
    "        print(\"No matching records found\")\n",
    "        return\n",
    "\n",
    "    # Get the folder name from the id column of the matched record\n",
    "    folder_name = filtered_data.iloc[0]['id']\n",
    "\n",
    "    # Search for the folder with the same name\n",
    "    folder_path = None\n",
    "    for root, dirs, files in os.walk('../csv2/'):\n",
    "        if folder_name in dirs:\n",
    "            folder_path = os.path.join(root, folder_name)\n",
    "            break\n",
    "\n",
    "    if folder_path is None:\n",
    "        print(\"Folder not found\")\n",
    "        return\n",
    "    # Merge all the CSV files in the folder\n",
    "    merged_data = pd.DataFrame()\n",
    "    for file in os.listdir(folder_path):\n",
    "        if file.endswith('.csv'):\n",
    "            file_path = os.path.join(folder_path, file)\n",
    "            df = pd.read_csv(file_path, usecols=[\"user\", \"text\", \"type\", \"ts\"])\n",
    "            df['ts'] = pd.to_datetime(df['ts'], unit='s')  # Convert ts column to human-readable timestamp\n",
    "            merged_data = pd.concat([merged_data, df])\n",
    "\n",
    "    # Save the merged data to a new CSV file\n",
    "    merged_data.to_csv('merged_conversations.csv', index=False)\n",
    "    print(\"CSV files merged successfully!\")\n",
    "\n",
    "# Usage example\n",
    "merge_csv_files()\n"
   ]
  },
  {
   "cell_type": "code",
   "execution_count": 1,
   "metadata": {},
   "outputs": [
    {
     "name": "stdout",
     "output_type": "stream",
     "text": [
      " * Serving Flask app '__main__'\n",
      " * Debug mode: off\n"
     ]
    },
    {
     "name": "stderr",
     "output_type": "stream",
     "text": [
      "WARNING: This is a development server. Do not use it in a production deployment. Use a production WSGI server instead.\n",
      " * Running on http://127.0.0.1:5000\n",
      "Press CTRL+C to quit\n",
      "127.0.0.1 - - [04/Dec/2023 11:47:13] \"GET / HTTP/1.1\" 404 -\n",
      "127.0.0.1 - - [04/Dec/2023 11:47:13] \"GET /favicon.ico HTTP/1.1\" 404 -\n",
      "127.0.0.1 - - [04/Dec/2023 11:47:16] \"GET / HTTP/1.1\" 404 -\n",
      "127.0.0.1 - - [04/Dec/2023 11:47:16] \"GET / HTTP/1.1\" 404 -\n"
     ]
    }
   ],
   "source": [
    "import os\n",
    "import pandas as pd\n",
    "from flask import Flask, request, jsonify\n",
    "\n",
    "app = Flask(__name__)\n",
    "\n",
    "@app.route('/messages', methods=['GET'])\n",
    "def get_messages():\n",
    "    # Get usernames from the request parameters\n",
    "    username1 = request.args.get('username1')\n",
    "    username2 = request.args.get('username2')\n",
    "\n",
    "    # Read the dms_output.csv file\n",
    "    dms_data = pd.read_csv('../processed_data/dms_output.csv')\n",
    "\n",
    "    # Filter the data based on the usernames\n",
    "    filtered_data = dms_data[(dms_data['member_1'] == username1) & (dms_data['member_2'] == username2)]\n",
    "\n",
    "    if filtered_data.empty:\n",
    "        return jsonify({'message': 'No matching records found'})\n",
    "\n",
    "    # Get the folder name from the id column of the matched record\n",
    "    folder_name = filtered_data.iloc[0]['id']\n",
    "\n",
    "    # Search for the folder with the same name\n",
    "    folder_path = None\n",
    "    for root, dirs, files in os.walk('../csv2/'):\n",
    "        if folder_name in dirs:\n",
    "            folder_path = os.path.join(root, folder_name)\n",
    "            break\n",
    "\n",
    "    if folder_path is None:\n",
    "        return jsonify({'message': 'Folder not found'})\n",
    "\n",
    "    # Merge all the CSV files in the folder\n",
    "    merged_data = pd.DataFrame()\n",
    "    for file in os.listdir(folder_path):\n",
    "        if file.endswith('.csv'):\n",
    "            file_path = os.path.join(folder_path, file)\n",
    "            df = pd.read_csv(file_path, usecols=[\"user\", \"text\", \"type\", \"ts\"])\n",
    "            df['ts'] = pd.to_datetime(df['ts'], unit='s')  # Convert ts column to human-readable timestamp\n",
    "            merged_data = pd.concat([merged_data, df])\n",
    "\n",
    "    # Filter the merged data based on the usernames\n",
    "    filtered_messages = merged_data[(merged_data['user'] == username1) | (merged_data['user'] == username2)]\n",
    "\n",
    "    # Convert the filtered messages to JSON\n",
    "    messages_json = filtered_messages.to_json(orient='records')\n",
    "\n",
    "    return messages_json\n",
    "\n",
    "if __name__ == '__main__':\n",
    "    app.run()\n"
   ]
  },
  {
   "cell_type": "code",
   "execution_count": 4,
   "metadata": {},
   "outputs": [],
   "source": [
    "user_id_to_username = {\n",
    "    \"U05RA88PCPR\": \"sam\",\n",
    "    \"U05S28VB3ED\": \"admin\",\n",
    "    \"U05S28X7ETB\": \"payagude.m\",\n",
    "    \"U05TG4W1YUF\": \"nikhil993477\",\n",
    "    \"U05TQLV3ZC4\": \"satish\",\n",
    "    \"U05TTNUB27P\": \"sajals1146\",\n",
    "    \"U05TZ4E0G5A\": \"shubhangisharma2411\",\n",
    "    \"U05V4DFEHS8\": \"tanushsethi55\"\n",
    "}"
   ]
  },
  {
   "cell_type": "code",
   "execution_count": 5,
   "metadata": {},
   "outputs": [
    {
     "name": "stdout",
     "output_type": "stream",
     "text": [
      "   user                                               text     type  \\\n",
      "14  sam  Satish joined Slack — take a second to say hello.  message   \n",
      "21  sam  Satish joined Slack — take a second to say hello.  message   \n",
      "22  sam  <@U05S28X7ETB> - <https://jobs.ashbyhq.com/ram...  message   \n",
      "24  sam  Came across the opportunity. Thought you might...  message   \n",
      "25  sam   Opps! My bad. Just noticed it is for 2024 grades  message   \n",
      "28  sam  Hello Mrunal - I’ve plans today. Let’s connect...  message   \n",
      "29  sam     Follow this guy: <https://huryn.substack.com/>  message   \n",
      "30  sam  <@U05S28X7ETB> - List of PMs : <https://docs.g...  message   \n",
      "33  sam                                            Means?   message   \n",
      "35  sam                                     Sure! You can   message   \n",
      "36  sam  350+ Product Management Questions: <https://ma...  message   \n",
      "39  sam  _Zubulake v. UBS Warburg L.L.C._ (“_Zubulake V...  message   \n",
      "40  sam  _Victor Stanley Inc. v. Creative Pipe Inc._U.S...  message   \n",
      "\n",
      "                               ts  \n",
      "14  2023-09-11 03:17:25.684729088  \n",
      "21  2023-09-11 03:17:23.789318912  \n",
      "22  2023-09-12 02:29:12.809869056  \n",
      "24  2023-09-12 03:17:12.221488896  \n",
      "25  2023-09-12 03:17:40.545579008  \n",
      "28  2023-09-16 20:01:55.525569024  \n",
      "29  2023-09-17 20:10:18.372098816  \n",
      "30  2023-09-17 20:29:13.300648960  \n",
      "33  2023-09-17 23:30:28.572719104  \n",
      "35  2023-09-18 01:29:12.174238976  \n",
      "36  2023-09-18 07:25:51.132039168  \n",
      "39  2023-09-20 23:31:46.852039168  \n",
      "40  2023-09-20 23:32:53.394359040  \n"
     ]
    }
   ],
   "source": [
    "import pandas as pd\n",
    "\n",
    "# Read the merged_msg.csv file\n",
    "merged_data = pd.read_csv('merged_msg.csv')\n",
    "\n",
    "# Take user input for username\n",
    "username = input(\"Enter username: \")\n",
    "\n",
    "# Replace user_id with username in user column\n",
    "merged_data['user'] = merged_data['user'].replace(user_id_to_username)\n",
    "\n",
    "# Filter the data based on the username\n",
    "filtered_data = merged_data[merged_data['user'] == username]\n",
    "\n",
    "# Print the filtered messages\n",
    "print(filtered_data)\n"
   ]
  },
  {
   "cell_type": "code",
   "execution_count": null,
   "metadata": {},
   "outputs": [],
   "source": [
    "@app.get(\"/messages\")\n",
    "def get_messages(username: str):\n",
    "    # Read the merged_msg.csv file\n",
    "    merged_data = pd.read_csv('merged_msg.csv')\n",
    "\n",
    "    # Replace user_id with username in user column\n",
    "    merged_data['user'] = merged_data['user'].replace(user_id_to_username)\n",
    "\n",
    "    # Filter the data based on the username\n",
    "    filtered_data = merged_data[merged_data['user'] == username]\n",
    "\n",
    "    # Convert the filtered messages to JSON\n",
    "    messages_json = filtered_data.to_json(orient='records')\n",
    "\n",
    "    return messages_json\n",
    "\n",
    "if __name__ == \"__main__\":\n",
    "    uvicorn.run(app, host=\"0.0.0.0\", port=8000)\n"
   ]
  }
 ],
 "metadata": {
  "kernelspec": {
   "display_name": "Python 3",
   "language": "python",
   "name": "python3"
  },
  "language_info": {
   "codemirror_mode": {
    "name": "ipython",
    "version": 3
   },
   "file_extension": ".py",
   "mimetype": "text/x-python",
   "name": "python",
   "nbconvert_exporter": "python",
   "pygments_lexer": "ipython3",
   "version": "3.9.13"
  }
 },
 "nbformat": 4,
 "nbformat_minor": 2
}
